{
 "cells": [
  {
   "cell_type": "code",
   "execution_count": 68,
   "metadata": {},
   "outputs": [],
   "source": [
    "from youtube_tools import MyYouTubeAPI\n",
    "from yt_dlp import YoutubeDL\n",
    "import requests\n",
    "import re\n",
    "from bs4 import BeautifulSoup as bs\n",
    "\n",
    "def get_video_id(url):\n",
    "    return url.split('=')[-1].split('&')[0]\n",
    "\n",
    "def get_channel_id(video_id):\n",
    "    url = f'https://www.youtube.com/watch?v={video_id}'\n",
    "    ydl_opts = {}\n",
    "    with YoutubeDL(ydl_opts) as ydl:\n",
    "        try:\n",
    "            meta = ydl.extract_info(url, download=False)\n",
    "        except:\n",
    "            print(\"\\nerror\")\n",
    "            exit(1)\n",
    "    return meta['channel_id']\n",
    "\n",
    "def get_playlist_id_of_uploads(myt, channel_id):\n",
    "    return 'UU' + channel_id[2:]\n",
    "\n",
    "def get_iframe(video_id):\n",
    "    return f'<iframe width=\"560\" height=\"315\" src=\"https://www.youtube.com/embed/{video_id}\" title=\"YouTube video player\" frameborder=\"0\" allow=\"accelerometer; autoplay; clipboard-write; encrypted-media; gyroscope; picture-in-picture\" allowfullscreen></iframe>'\n",
    "\n",
    "def get_playlist_info(video_id, playlist_id):\n",
    "    #ua = 'ozilla/5.0 (Windows NT 10.0; Win64; x64) AppleWebKit/537.36 (KHTML, like Gecko) Chrome/102.0.5005.63 Safari/537.36'\n",
    "    #headers = {'User-Agent': ua}\n",
    "    url = f'https://www.youtube.com/watch?v={video_id}&list={playlist_id}'\n",
    "    res = requests.get(url)\n",
    "    soup = bs(res.content,'html.parser')\n",
    "    index = int(re.search(r'currentIndex\":(\\d)',str(soup)).group(1))\n",
    "    video_count = int(re.search(r'totalVideosText\":{\"runs\":\\[{\"text\":\"(\\d*)', str(soup)).group(1))\n",
    "    print(index, video_count)\n",
    "    return index, video_count\n",
    "\n",
    "# あとは指定した動画のインデックスさえ特定できれば...\n",
    "def get_sides(playlist_id, index):\n",
    "    url = f'https://www.youtube.com/playlist?list={playlist_id}'\n",
    "    # 範囲は0及びアイテム数を超えた場合無視\n",
    "    ydl_opts = {'playlist_items': f'{index-1}-{index+1}'}\n",
    "    with YoutubeDL(ydl_opts) as ydl:\n",
    "        try:\n",
    "            meta = ydl.extract_info(url, download=False)\n",
    "        except:\n",
    "            print(\"\\nerror\")\n",
    "            exit(1)\n",
    "    video_ids_sides = [items['id'] for items in meta['entries']]\n",
    "    return video_ids_sides\n",
    "\n",
    "def get_dic(myt, url):\n",
    "    video_id = get_video_id(url)\n",
    "    channel_id = get_channel_id(myt, video_id)\n",
    "    playlist_id = get_playlist_id_of_uploads(myt, channel_id)\n",
    "    index, video_count = get_playlist_info(video_id, playlist_id)\n",
    "    sides = get_sides(playlist_id, index)\n",
    "    dic = {}\n",
    "\n",
    "    if index != 0: dic['next'] = sides[0]\n",
    "    dic['selected'] = sides[1]\n",
    "    if index != video_count: dic['pre'] = sides[2]\n",
    "\n",
    "    return dic"
   ]
  },
  {
   "cell_type": "code",
   "execution_count": 69,
   "metadata": {},
   "outputs": [
    {
     "name": "stdout",
     "output_type": "stream",
     "text": [
      "[youtube] oj2DBTW43lI: Downloading webpage\n",
      "[youtube] oj2DBTW43lI: Downloading android player API JSON\n",
      "UCG0rzBZV_QMP4MtWg6IjhEA\n"
     ]
    }
   ],
   "source": [
    "print(get_channel_id('oj2DBTW43lI'))"
   ]
  },
  {
   "cell_type": "code",
   "execution_count": null,
   "metadata": {},
   "outputs": [],
   "source": []
  }
 ],
 "metadata": {
  "interpreter": {
   "hash": "d7c8641eba6eb05368bbf4f533a18dec620a27a80657ef680ad34fc0d77d7298"
  },
  "kernelspec": {
   "display_name": "Python 3.10.4 ('.venv': venv)",
   "language": "python",
   "name": "python3"
  },
  "language_info": {
   "codemirror_mode": {
    "name": "ipython",
    "version": 3
   },
   "file_extension": ".py",
   "mimetype": "text/x-python",
   "name": "python",
   "nbconvert_exporter": "python",
   "pygments_lexer": "ipython3",
   "version": "3.10.4"
  },
  "orig_nbformat": 4
 },
 "nbformat": 4,
 "nbformat_minor": 2
}
